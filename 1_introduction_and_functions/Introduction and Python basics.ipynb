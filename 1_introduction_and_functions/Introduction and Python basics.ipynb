{
 "cells": [
  {
   "cell_type": "markdown",
   "metadata": {
    "slideshow": {
     "slide_type": "slide"
    }
   },
   "source": [
    "\n",
    "# Introduction to Scientific Computing with Python\n",
    "\n",
    "\n"
   ]
  },
  {
   "cell_type": "markdown",
   "metadata": {
    "slideshow": {
     "slide_type": "slide"
    }
   },
   "source": [
    "<br>\n",
    "<hr style=\"border: solid 1px red; margin-bottom: 2% \">\n",
    "## Scientific computing overview\n",
    "<hr style=\"border: solid 1px red; margin-bottom: -1%; \">\n",
    "<br>\n",
    "\n",
    "### A typical workflow\n",
    "\n",
    "\n",
    "* Generate data\n",
    "\n",
    "  * Perhaps from simulation on HPC facilities\n",
    "  \n",
    "  * Perhaps from experiment\n",
    "\n",
    "\n",
    "* Process data\n",
    "  * Compute/extract appropriate results from data\n",
    "\n",
    "\n",
    "* Visualise results\n",
    "\n",
    "  * To understand the significance of our work and gain scientific insight\n",
    "\n",
    "\n",
    "* Communicate results\n",
    "\n",
    "  * Through publications, presentations, web, etc.\n"
   ]
  },
  {
   "cell_type": "code",
   "execution_count": 1,
   "metadata": {},
   "outputs": [
    {
     "name": "stdout",
     "output_type": "stream",
     "text": [
      "Hello this is working\n"
     ]
    }
   ],
   "source": [
    "print (\"Hello this is working\")"
   ]
  },
  {
   "cell_type": "markdown",
   "metadata": {
    "slideshow": {
     "slide_type": "slide"
    }
   },
   "source": [
    "<br>\n",
    "<hr style=\"border: solid 1px red; margin-bottom: 2% \">\n",
    "## Why Python?\n",
    "<hr style=\"border: solid 1px red; margin-bottom: -1%; \">\n",
    "<br>\n",
    "\n",
    "* Wide set of scientific computing functionality\n",
    "\n",
    "  * Numerical and scientific libraries\n",
    "  \n",
    "  * Plotting (graphs, charts, etc)\n",
    "  \n",
    "  * Interfacing to existing Fortran/C/C++ code, use Python as \"glue\".\n",
    "\n",
    "  \n",
    "* Python is a high level language\n",
    "\n",
    "  * Simple to learn and write\n",
    "  \n",
    "  * Spend time thinking about what code does rather than how to write it\n",
    "  \n",
    "  * Supports different programming styles: procedural or object-oriented\n",
    "  \n",
    " <br>"
   ]
  },
  {
   "cell_type": "markdown",
   "metadata": {
    "slideshow": {
     "slide_type": "slide"
    }
   },
   "source": [
    "<br>\n",
    "<hr style=\"border: solid 1px red; margin-bottom: 2% \">\n",
    "## Core libraries and packages for scientific computing \n",
    "<hr style=\"border: solid 1px red; margin-bottom: -1%; \">\n",
    "<br>\n",
    "\n",
    "#### Standard library:\n",
    "\n",
    "* https://docs.python.org/3/library/\n",
    "\n",
    "#### We will cover the central packages:\n",
    "\n",
    "* NumPy\n",
    "\n",
    "  * Tools for manipulating arrays\n",
    "\n",
    "\n",
    "* Matplotlib\n",
    "\n",
    "  * Plotting in 2D and 3D\n",
    "  \n",
    "\n",
    "* SciPy\n",
    "\n",
    "  * Higher-level scientific routines for common algorithms e.g. numerical integration, optimisation, Fourier transforms\n",
    "  \n",
    "\n",
    "<br>\n"
   ]
  },
  {
   "cell_type": "markdown",
   "metadata": {
    "slideshow": {
     "slide_type": "slide"
    }
   },
   "source": [
    "<br>\n",
    "<hr style=\"border: solid 1px red; margin-bottom: 2% \">\n",
    "## Other useful packages\n",
    "<hr style=\"border: solid 1px red; margin-bottom: -1%; \">\n",
    "<br>\n",
    "\n",
    "* numba\n",
    "  * Decorations to allow compilation to source\n",
    "  \n",
    "* pandas\n",
    "  * Data structures and analysis\n",
    "  \n",
    "* scikit-learn\n",
    "  * Machine learning, data mining and data analysis\n",
    "  \n",
    "* bokeh\n",
    "  * Interactive visualization library\n",
    "  \n",
    "See\n",
    "* http://pythonhosted.org/mpi4py/\n",
    "* http://numba.pydata.org\n",
    "* http://pandas.pydata.org\n",
    "* http://scikit-learn.org\n",
    "* http://bokeh.pydata.org\n"
   ]
  },
  {
   "cell_type": "markdown",
   "metadata": {
    "slideshow": {
     "slide_type": "slide"
    }
   },
   "source": [
    "<br>\n",
    "<hr style=\"border: solid 1px red; margin-bottom: 2% \">\n",
    "## How to use Python?\n",
    "<hr style=\"border: solid 1px red; margin-bottom: -1%; \">\n",
    "\n",
    "<br>\n",
    "* Python code is executed by the Python interpreter: **`python`**\n",
    "\n",
    "\n",
    "* **Interactive mode** run Python interpreter without an input script file\n",
    "\n",
    "  * Interpreter runs as a Python shell (interactive Python runtime environment)\n",
    "\n",
    "\n",
    "* **Non-interactive mode** : supply the Python interpreter with an input script file\n",
    "\n",
    "  * `python myscript.py`\n",
    "\n",
    "\n",
    "* **Alternative interactive modes**\n",
    "  \n",
    "  * IPython : enchanced Python shell, ideal for data manipulation and visualisation\n",
    "  * Jupyter (formerly IPython) notebook : web browser-based interactive document\n",
    "\n",
    "<br>\n"
   ]
  },
  {
   "cell_type": "markdown",
   "metadata": {
    "slideshow": {
     "slide_type": "slide"
    }
   },
   "source": [
    "<br>\n",
    "<hr style=\"border: solid 1px red; margin-bottom: 2% \">\n",
    "## Jupyter Notebook\n",
    "<hr style=\"border: solid 1px red; margin-bottom: -1%; \">\n",
    "<br>\n",
    "\n",
    "A browser interface to the iPython shell\n",
    "\n",
    "* Input is split into cells\n",
    "* So far we have seen \"Markdown\" cells\n",
    "* Enter python commands into \"code\" cells\n",
    "\n",
    "<br>\n"
   ]
  },
  {
   "cell_type": "markdown",
   "metadata": {
    "collapsed": true,
    "slideshow": {
     "slide_type": "slide"
    }
   },
   "source": [
    "<br>\n",
    "<hr style=\"border: solid 1px red; margin-bottom: 1% \">\n",
    "## Python basics recap \n",
    "<hr style=\"border: solid 1px red; margin-bottom: -1%;\">\n",
    "<br>\n",
    "\n",
    "### Data types\n",
    "\n",
    "* Python is \"dynamically typed\": no explicit type declarations\n",
    "* Data type worked out from context when code is executed\n",
    "* Basic types include integers, floating point numbers, strings...\n"
   ]
  },
  {
   "cell_type": "markdown",
   "metadata": {
    "collapsed": true,
    "slideshow": {
     "slide_type": "slide"
    }
   },
   "source": [
    "<br>\n",
    "\n",
    "<hr style=\"border: solid 1px red; margin-bottom: 1% \">\n",
    "## Python basics recap\n",
    "<hr style=\"border: solid 1px red; margin-bottom: -1%;\">\n",
    "<br>\n",
    "\n",
    "#### Dynamic typing requires some care\n"
   ]
  },
  {
   "cell_type": "code",
   "execution_count": 3,
   "metadata": {},
   "outputs": [
    {
     "name": "stdout",
     "output_type": "stream",
     "text": [
      "7\n",
      "9\n"
     ]
    }
   ],
   "source": [
    "a = 3\n",
    "b = 4\n",
    "c = \"5\"\n",
    "\n",
    "print (a + b)\n",
    "print (b + int(c))"
   ]
  },
  {
   "cell_type": "markdown",
   "metadata": {
    "collapsed": true,
    "slideshow": {
     "slide_type": "slide"
    }
   },
   "source": [
    "<br>\n",
    "<hr style=\"border: solid 1px red; margin-bottom: 1% \">\n",
    "## Python basics recap\n",
    "<hr style=\"border: solid 1px red; margin-bottom: -1%;\">\n",
    "<br>\n",
    "\n",
    "\n",
    "### Data structures\n",
    "\n",
    "* lists, e.g.,  <code>[3, \"a\", 3.14, False]</code>\n",
    "* dictionary (or \"dicts\") <code>{\"key1\" : \"value1\", \"key1\" : \"value1\"}</code> \n",
    "* tuples <code>(1,2,3) or (1.2,) or (1, )</code>\n",
    "\n",
    "A tuple is an example of an <i>immutable object</i>. Immutable means <i>cannot be changed</i>\n"
   ]
  },
  {
   "cell_type": "markdown",
   "metadata": {
    "collapsed": true,
    "slideshow": {
     "slide_type": "slide"
    }
   },
   "source": [
    "<br>\n",
    "<hr style=\"border: solid 1px red; margin-bottom: 1% \">\n",
    "## Python basics recap\n",
    "<hr style=\"border: solid 1px red; margin-bottom: -1%;\">\n",
    "<br>\n",
    "### White space is significant (so take care!)\n",
    "\n",
    "* Code blocks are indented\n",
    "    * loops\n",
    "    * conditionals\n",
    "    * functions\n",
    "\n",
    "* Indent should be exactly 4 spaces\n",
    "    * not 3 spaces, not 5 spaces, not a tab stop, ...\n",
    "<br>"
   ]
  },
  {
   "cell_type": "markdown",
   "metadata": {
    "collapsed": true,
    "slideshow": {
     "slide_type": "slide"
    }
   },
   "source": [
    "<br>\n",
    "<hr style=\"border: solid 1px red; margin-bottom: 1% \">\n",
    "## Python basics recap\n",
    "<hr style=\"border: solid 1px red; margin-bottom: -1%;\">\n",
    "<br>\n",
    "\n",
    "### Importing additional modules\n",
    "  \n",
    "* There are a number of options:\n",
    "\n",
    "  * `import module`\n",
    "  * `from module import name`\n",
    "  * avoid universal imports\n",
    "  \n",
    "* E.g., from the standard library\n",
    "  * https://docs.python.org/2/library/"
   ]
  },
  {
   "cell_type": "markdown",
   "metadata": {},
   "source": [
    "For example, the standard library contains a module `random` for the generation of random numbers. The module contains a function `random()`, amongst others."
   ]
  },
  {
   "cell_type": "markdown",
   "metadata": {
    "collapsed": true,
    "slideshow": {
     "slide_type": "slide"
    }
   },
   "source": [
    "<br>\n",
    "<hr style=\"border: solid 1px red; margin-bottom: 2% \">\n",
    "## Python basics recap\n",
    "<hr style=\"border: solid 1px red; margin-bottom: -1%;\">\n",
    "<br>\n",
    "\n",
    "* Functions\n",
    "\n",
    "  * In-built functions, e.g., `int()`, `type()`, `range()`\n",
    "\n",
    "  * Object methods are accessed with dot operator : `object.method()` e.g. `list.sort()`\n",
    "\n",
    "  * Module functions also accessed with dot operator :  `module.function()`\n",
    "  \n",
    "  * Define your own function, e.g.:\n",
    "```python\n",
    "def my_square(x):\n",
    "        return x*x\n",
    "```\n",
    "\n",
    "  \n",
    "See\n",
    "* In-built functions https://docs.python.org/2/library/functions.html\n",
    "\n",
    "\n",
    "<br>"
   ]
  },
  {
   "cell_type": "markdown",
   "metadata": {},
   "source": [
    "<br>\n",
    "\n",
    "<hr style=\"border: solid 1px red; margin-bottom: 2% \">\n",
    "## A Python module\n",
    "<hr style=\"border: solid 1px red; margin-bottom: -1%; \">\n",
    "\n",
    "<br>\n",
    "\n",
    "* A file with extension `.py` is a \"module\"\n",
    "\n",
    "* At the top of such a file you may see something like:\n",
    "```python\n",
    "#!/usr/bin/env python\n",
    "```\n",
    "(Unix) If the file is executable, locate interpreter from environment `$PATH`\n",
    "\n",
    "\n",
    "* At the bottom, you may see\n",
    "```python\n",
    "if __name__ == \"__main__\":\n",
    "    import sys\n",
    "    some_function_defined_above(sys.argv)\n",
    "```\n",
    "    \n",
    "* Allows use as \"stand-alone\" script or as imported module\n",
    "<br>\n",
    "<br>"
   ]
  },
  {
   "cell_type": "markdown",
   "metadata": {
    "slideshow": {
     "slide_type": "slide"
    }
   },
   "source": [
    "<br>\n",
    "<hr style=\"border: solid 1px red; margin-bottom: 2% \">\n",
    "## Exercise 1: Writing a function \n",
    "<hr style=\"border: solid 1px red; margin-bottom: -1%; \">\n",
    "<br>\n",
    "### Median from a list\n",
    "\n",
    "Define a function <code>my_median()</code> that takes a list of years and computes the median based on the elapsed number of years since 1900 for each entry in the list.\n",
    "\n",
    "The function should return the median <i>and</i> the value either side of the median as a list.\n",
    "\n",
    "If `years = [1989, 1955, 2011, 1943, 1975]` then the result should be\n",
    "```python\n",
    "print my_median(years)\n",
    "[55, 75, 89]\n",
    "```\n",
    "\n",
    "Assume the input list is not ordered and has an odd number of elements $N$, where $N >= 3$.\n",
    "\n",
    "\n",
    "\n",
    "1. Use the above list of numbers as input to check you get the right answer.\n",
    "\n",
    "2. You will need to sort the list. How?\n",
    "\n",
    "3. List indexing may help you to get the final result e.g. `list[3:5]`\n",
    "\n",
    "4. Try generating a random array for input using module random.\n",
    "\n",
    "<br>\n"
   ]
  },
  {
   "cell_type": "code",
   "execution_count": 9,
   "metadata": {},
   "outputs": [
    {
     "name": "stdout",
     "output_type": "stream",
     "text": [
      "2\n",
      "[55, 75, 89]\n"
     ]
    }
   ],
   "source": [
    "def my_median(years):\n",
    "    ages = []\n",
    "    for y in years:\n",
    "        ages.append(y-1900)\n",
    "     \n",
    "    ages.sort()\n",
    "    \n",
    "    mid = len(ages)//2\n",
    "    print(mid)\n",
    "\n",
    "    #slicing\n",
    "    result = ages[mid - 1:mid + 2]\n",
    "    return result\n",
    "    \n",
    "    \n",
    "years = [1989, 1955, 2011, 1943, 1975]\n",
    "print (my_median(years))"
   ]
  },
  {
   "cell_type": "markdown",
   "metadata": {},
   "source": [
    " "
   ]
  },
  {
   "cell_type": "markdown",
   "metadata": {
    "slideshow": {
     "slide_type": "slide"
    }
   },
   "source": [
    "<br>\n",
    "\n",
    "<hr style=\"border: solid 1px red; margin-bottom: 2% \">\n",
    "## Exercise 2 : Functions and libraries\n",
    "<hr style=\"border: solid 1px red; margin-bottom: -1%; \">\n",
    "<br>\n",
    "### Using an external file\n",
    "\n",
    "Now read the list of years from a text file, <code>years.txt</code>, which should have the total number of years $N$ in the first line, followed by a numbered list of years:\n",
    "```\n",
    "total number of years\n",
    "1 year1\n",
    "2 year2\n",
    "...\n",
    "```\n",
    "\n",
    "To generate an input file '`years.txt`', you can try code of the form:\n",
    "\n",
    "```python\n",
    "import sys\n",
    "output = open(filename, \"w\")\n",
    "...\n",
    "output.write(\"{0:2d} {1:2d}\\n\".format(1, years[0]))\n",
    "```\n",
    "\n",
    "To read an input file '`years.txt`', you may need code of the form:\n",
    "```python\n",
    "input = open(filename, \"w\")\n",
    "line = input.readline()\n",
    "line.rstrip()\n",
    "tokens = line.split()\n",
    "```\n",
    "\n",
    "Check the in-built or web documentation for help with these standard library functions."
   ]
  },
  {
   "cell_type": "markdown",
   "metadata": {},
   "source": [
    " "
   ]
  },
  {
   "cell_type": "markdown",
   "metadata": {
    "slideshow": {
     "slide_type": "slide"
    }
   },
   "source": [
    "<br>\n",
    "<hr style=\"border: solid 1px red; margin-bottom: 2% \">\n",
    "## Summary\n",
    "<hr style=\"border: solid 1px red; margin-bottom: -1%; \">\n",
    "<br>\n",
    "* We have reviewed some core Python basics\n",
    "\n",
    "* We have also been introduced to the IPython shell\n",
    "\n",
    "* We will now look the packages that form the backbone of scientific python\n",
    "\n",
    "  * NumPy (next)\n",
    "  * Matplotlib\n",
    "  * SciPy\n",
    "  * MPI4PY\n",
    "  \n",
    "<br>\n",
    "\n",
    "* Useful links\n",
    "\n",
    "  * https://docs.python.org/2/\n",
    "  * https://www.codecademy.com/learn/python\n",
    "\n",
    "\n"
   ]
  }
 ],
 "metadata": {
  "anaconda-cloud": {},
  "celltoolbar": "Raw Cell Format",
  "kernelspec": {
   "display_name": "Python 3",
   "language": "python",
   "name": "python3"
  },
  "language_info": {
   "codemirror_mode": {
    "name": "ipython",
    "version": 3
   },
   "file_extension": ".py",
   "mimetype": "text/x-python",
   "name": "python",
   "nbconvert_exporter": "python",
   "pygments_lexer": "ipython3",
   "version": "3.5.4"
  }
 },
 "nbformat": 4,
 "nbformat_minor": 1
}
