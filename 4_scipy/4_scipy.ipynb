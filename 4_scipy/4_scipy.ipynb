{
 "cells": [
  {
   "cell_type": "markdown",
   "metadata": {
    "slideshow": {
     "slide_type": "slide"
    }
   },
   "source": [
    "\n",
    "<hr style=\"border: solid 1px red; margin-bottom: -1% \">\n",
    "# Session 4: SciPy\n",
    "<hr style=\"border: solid 1px red; margin-top: 1.5% \">\n",
    "\n",
    "\n"
   ]
  },
  {
   "cell_type": "markdown",
   "metadata": {
    "slideshow": {
     "slide_type": "slide"
    }
   },
   "source": [
    "<br>\n",
    "<hr style=\"border: solid 1px red; margin-bottom: 2% \">\n",
    "## Overview\n",
    "<hr style=\"border: solid 1px red; margin-bottom: -1%; \">\n",
    "<br>\n",
    "\n",
    "* NumPy provides arrays and limited additional functionality\n",
    "\n",
    "\n",
    "* SciPy builds on NumPy and provides additional modules:\n",
    "  * Linear Algebra and wrappers to LAPACK & BLAS `scipy.linalg`\n",
    "  * Numerical Integration `scipy.integrate` \n",
    "  * Interpolation `scipy.interpolate`\n",
    "  * Optimisation `scipy.optimize` \n",
    "  * Special functions `scipy.special`\n",
    "  * Signal processing `scipy.signal`\n",
    "  * Image Processing `scipy.ndimage`\n",
    "  * Fourier transforms `scipy.fftpack`\n",
    "  * Statistical functions `stats` \n",
    "  * Spatial data structures and algorithms `scipy.spatial`\n",
    "  * File I/O e.g. to read MATLAB files `scipy.io`\n",
    "  <br>"
   ]
  },
  {
   "cell_type": "markdown",
   "metadata": {
    "slideshow": {
     "slide_type": "slide"
    }
   },
   "source": [
    "<br>\n",
    "<hr style=\"border: solid 1px red; margin-bottom: 2% \">\n",
    "## Useful links\n",
    "<hr style=\"border: solid 1px red; margin-bottom: -1%; \">\n",
    "<br>\n",
    "\n",
    "* Note: no PDE solvers (though other packages exist) \n",
    "\n",
    "\n",
    "* Documentation: \n",
    "  * <p style=\"font-size: 100%\"> http://docs.scipy.org/doc/scipy/reference/tutorial/ </p>\n",
    "  \n",
    "  * <p style=\"font-size: 100%\"> http://docs.scipy.org/doc/scipy/reference/ </p>\n",
    "  \n",
    "  * <p style=\"font-size: 100%\"> http://scipy-cookbook.readthedocs.org </p>"
   ]
  },
  {
   "cell_type": "markdown",
   "metadata": {},
   "source": [
    " "
   ]
  },
  {
   "cell_type": "markdown",
   "metadata": {
    "slideshow": {
     "slide_type": "slide"
    }
   },
   "source": [
    "<br>\n",
    "<hr style=\"border: solid 1px red; margin-bottom: 2% \">\n",
    "## Linear algebra\n",
    "<hr style=\"border: solid 1px red; margin-bottom: -1%; \">\n",
    "<br>\n",
    "\n",
    "* Wider set of linear algebra operations than in Numpy \n",
    "\n",
    "  * <p style=\"font-size: 100%\">various decompositions (eigen, singular value)</p>\n",
    "  * <p style=\"font-size: 100%\">matrix exponentials, trigonometric functions</p> \n",
    "  * <p style=\"font-size: 100%\">particular matrix equations and special matrics</p>\n",
    "  * <p style=\"font-size: 100%\">low-level LAPACK and BLAS routines</p>\n",
    "  \n",
    "  \n",
    "* Routines also for sparse matrices\n",
    "  * <p style=\"font-size: 100%\">storage formats</p> \n",
    "  * <p style=\"font-size: 100%\">iterative algorithms</p>"
   ]
  },
  {
   "cell_type": "markdown",
   "metadata": {},
   "source": [
    "  "
   ]
  },
  {
   "cell_type": "markdown",
   "metadata": {
    "slideshow": {
     "slide_type": "slide"
    }
   },
   "source": [
    "<br>\n",
    "<hr style=\"border: solid 1px red; margin-bottom: 2% \">\n",
    "## Example: Matrix inverse\n",
    "<hr style=\"border: solid 1px red; margin-bottom: -1%; \">\n",
    "<br>\n",
    "Consider:\n",
    "\n",
    "$$\n",
    "A = \\left[ \\begin{array}\n",
    "{rrr}\n",
    "1 & 3 & 5 \\\\\n",
    " 2 & 5 & 1 \\\\\n",
    " 2 & 3 & 8 \\\\\n",
    "\\end{array} \\right]\n",
    "$$\n",
    "\n",
    "The inverse of $A$ is\n",
    "\n",
    "$$\n",
    "A^{-1} = \n",
    "\\frac{1}{25} \\left[ \\begin{array}\n",
    "{rrr}\n",
    "-37 & 9 & 22\\\\\n",
    "14 & 2 & -9 \\\\ \n",
    "4 & -3 & 1\\\\\n",
    "\\end{array} \\right]\n",
    "\\approx\n",
    "\\left[ \\begin{array}\n",
    "{rrr}\n",
    "-1.48 & 0.36 &  0.88\\\\\n",
    "-0.56 &  0.08 & -0.36 \\\\ \n",
    "0.16 & -0.12 &  0.04\\\\\n",
    "\\end{array} \\right]\n",
    "$$\n",
    "\n",
    "which may be confirmed by checking $A A^{-1} = I$ where $I$ is the identity.\n"
   ]
  },
  {
   "cell_type": "markdown",
   "metadata": {
    "slideshow": {
     "slide_type": "subslide"
    }
   },
   "source": [
    "<br>\n",
    "<hr style=\"border: solid 1px red; margin-bottom: 2% \">\n",
    "## Exercise 1: Matrix inverse\n",
    "<hr style=\"border: solid 1px red; margin-bottom: -1%; \">\n",
    "<br>\n",
    "\n",
    "Find inverse of matrix A (as defined above). Check the result by multiplying out  $A A^{-1}$ , which should give \n",
    "identity matrix  $I$"
   ]
  },
  {
   "cell_type": "code",
   "execution_count": 1,
   "metadata": {
    "scrolled": true,
    "slideshow": {
     "slide_type": "-"
    }
   },
   "outputs": [],
   "source": [
    "# numpy has a function to produce the 2D identity matrix I\n",
    "# query: ?np.eye\n",
    "\n",
    "from scipy import linalg\n",
    "A = ..."
   ]
  },
  {
   "cell_type": "markdown",
   "metadata": {},
   "source": [
    "Exercise: Simple single integral"
   ]
  },
  {
   "cell_type": "markdown",
   "metadata": {},
   "source": [
    " "
   ]
  },
  {
   "cell_type": "markdown",
   "metadata": {
    "slideshow": {
     "slide_type": "subslide"
    }
   },
   "source": [
    "<br>\n",
    "<hr style=\"border: solid 1px red; margin-bottom: 2% \">\n",
    "## Integration: `scipy.integrate`\n",
    "<hr style=\"border: solid 1px red; margin-bottom: -1%; \">\n",
    "<br>\n",
    "\n",
    "* Routines for numerical integration – single, double and triple integrals \n",
    "* Can solve Ordinary Differential Equations (ODEs) with initial conditions\n",
    "\n",
    "### Example : Double integral\n",
    "Calculate $\\pi$ using the double integral for the area of a circle with radius $r$: <br>\n",
    "\n",
    "$$\n",
    "\\int _{x_{min}} ^{x_{max}}\\, dx \\int _{g(x)} ^{h(x)} f(x,y) \\, dy = \\int _{-r} ^{r} \\int _{-\\sqrt(r^2-x^2)} ^{\\sqrt(r^2-x^2)} 1 \\, dx\\, dy = \\pi r^2\n",
    "$$\n",
    "\n",
    "We will solve this with `scipy.integrate.dblquad()`\n",
    "\n",
    "http://docs.scipy.org/doc/scipy-0.17.0/reference/generated/scipy.integrate.dblquad.html\n",
    "<br>\n",
    "<br>"
   ]
  },
  {
   "cell_type": "code",
   "execution_count": 2,
   "metadata": {
    "scrolled": true,
    "slideshow": {
     "slide_type": "-"
    }
   },
   "outputs": [],
   "source": [
    "# numerically integrate using dblquad()\n",
    "\n",
    "import numpy as np\n",
    "from scipy.integrate import dblquad\n",
    "\n",
    "# order of variables matters! y before x\n",
    "\n",
    "def integrand(y, x):\n",
    "    return 1\n",
    "\n",
    "def xminlim(x, r):\n",
    "    return -1*np.sqrt(r*r - x*x)\n",
    "\n",
    "def xmaxlim(x, r):\n",
    "    return np.sqrt(r*r - x*x)\n",
    "\n",
    "# integral for the area of a circle with radius r\n",
    "def integrate_to_pi(r): \n",
    "    (area,err) = dblquad(integrand, -1*r, r, \n",
    "                         lambda x: xminlim(x,r), \n",
    "                         lambda x: xmaxlim(x,r))\n",
    "    return area/(r*r)\n"
   ]
  },
  {
   "cell_type": "markdown",
   "metadata": {
    "slideshow": {
     "slide_type": "subslide"
    }
   },
   "source": [
    "<br>\n",
    "<hr style=\"border: solid 1px red; margin-bottom: 2% \">\n",
    "## Integration : Check result\n",
    "<hr style=\"border: solid 1px red; margin-bottom: -1%; \">\n",
    "<br>\n",
    "\n",
    "Calculate the result and compare with the standard `numpy.pi`"
   ]
  },
  {
   "cell_type": "code",
   "execution_count": 4,
   "metadata": {
    "scrolled": true,
    "slideshow": {
     "slide_type": "-"
    }
   },
   "outputs": [
    {
     "name": "stdout",
     "output_type": "stream",
     "text": [
      "3.1415926535897967\n",
      "-3.552713678800501e-15\n"
     ]
    }
   ],
   "source": [
    "# %load pi_integration_check.py\n",
    "# calculate pi using numerical integration and check result against numpy constant np.pi\n",
    "\n",
    "print (integrate_to_pi(1.0))\n",
    "\n",
    "# compare with numpy pi\n",
    "print (np.pi - integrate_to_pi(1.0))\n",
    "\n",
    "# can try timing... (uncomment line below)\n",
    "# %timeit integrate_to_pi(1.0) \n"
   ]
  },
  {
   "cell_type": "markdown",
   "metadata": {},
   "source": [
    "  "
   ]
  },
  {
   "cell_type": "markdown",
   "metadata": {
    "slideshow": {
     "slide_type": "subslide"
    }
   },
   "source": [
    "<br>\n",
    "<hr style=\"border: solid 1px red; margin-bottom: 2% \">\n",
    "## Exercise : Double integral\n",
    "<hr style=\"border: solid 1px red; margin-bottom: -1%; \">\n",
    "<br>\n",
    "\n",
    "Calculate the double integral\n",
    "\n",
    "$$\n",
    "\\int_0^{\\pi/2} dx \\int_0^1 dy \\quad f(x,y)\n",
    "$$\n",
    "\n",
    "where $f(x,y) = y sin(x)$. The answer should be 1/2.\n",
    "<br>\n",
    "<br>"
   ]
  },
  {
   "cell_type": "code",
   "execution_count": 5,
   "metadata": {
    "scrolled": true,
    "slideshow": {
     "slide_type": "-"
    }
   },
   "outputs": [
    {
     "ename": "SyntaxError",
     "evalue": "Missing parentheses in call to 'print' (<ipython-input-5-98fd5ef896f4>, line 7)",
     "output_type": "error",
     "traceback": [
      "\u001b[0;36m  File \u001b[0;32m\"<ipython-input-5-98fd5ef896f4>\"\u001b[0;36m, line \u001b[0;32m7\u001b[0m\n\u001b[0;31m    print area, err\u001b[0m\n\u001b[0m             ^\u001b[0m\n\u001b[0;31mSyntaxError\u001b[0m\u001b[0;31m:\u001b[0m Missing parentheses in call to 'print'\n"
     ]
    }
   ],
   "source": [
    "# Use the same approach here as above\n",
    "\n",
    "def integrand1(y,x):\n",
    "    return y*np.sin(x)\n",
    "\n",
    "area, err = dblquad(integrand1, 0.0, 0.5*np.pi, lambda x: 0.0, lambda x: 1.0)\n",
    "print area, err"
   ]
  },
  {
   "cell_type": "markdown",
   "metadata": {
    "slideshow": {
     "slide_type": "subslide"
    }
   },
   "source": [
    "<br>\n",
    "<hr style=\"border: solid 1px red; margin-bottom: 2% \">\n",
    "## Solution : Double integral\n",
    "<hr style=\"border: solid 1px red; margin-bottom: -1%; \">\n",
    "<br>"
   ]
  },
  {
   "cell_type": "code",
   "execution_count": 7,
   "metadata": {
    "slideshow": {
     "slide_type": "-"
    }
   },
   "outputs": [
    {
     "data": {
      "text/plain": [
       "0.5"
      ]
     },
     "execution_count": 7,
     "metadata": {},
     "output_type": "execute_result"
    }
   ],
   "source": [
    "# %load integration.py\n",
    "# Integral x = [0, pi/2] y = [0, 1] f(x,y) = ysin(x)\n",
    "# numerically solve the integral using dblquad\n",
    "\n",
    "import numpy as np\n",
    "from scipy.integrate import dblquad\n",
    "\n",
    "# order of arguments matters!\n",
    "def integrand(y,x): \n",
    "    return y*np.sin(x)\n",
    "\n",
    "# integrate f(x, y) = y * sin (x)\n",
    "def integrate_this(): \n",
    "    (area,err) = dblquad(integrand, 0,np.pi/2, \n",
    "                         lambda x: 0, \n",
    "                         lambda x: 1)\n",
    "    return area\n",
    "\n",
    "integrate_this()\n"
   ]
  },
  {
   "cell_type": "markdown",
   "metadata": {
    "slideshow": {
     "slide_type": "subslide"
    }
   },
   "source": [
    "<br>\n",
    "<hr style=\"border: solid 1px red; margin-bottom: 2% \">\n",
    "## Example : Pendulum\n",
    "<hr style=\"border: solid 1px red; margin-bottom: -1%; \">\n",
    "<br>\n",
    "\n",
    "Solve Ordinary Differential Equations (ODEs) with initial conditions, for example motion of simple pendulum.\n",
    "\n",
    "A point mass, $m$, is attached to the end of a massless rigid rod of length $l$. The pendulum is acted on by gravity and friction. We can describe the resulting motion of the pendulum by angle, $\\theta$, it makes with the vertical. \n",
    "\n",
    "<img src=\"pendulum.png\"; style=\"float: right; width: 40%; margin-right: 3%; margin-top: 0%; margin-bottom: -1%\">  <br>\n",
    "\n",
    "Assuming angle $\\theta$ always remains small, we can write a second-order differential equation to describe the motion of the mass according to Newton's 2nd law of motion, $m\\,a = F$, in terms of $\\theta$:\n",
    "\n",
    "$$\n",
    "\\ddot{\\theta} = -\\frac{g}{l}\\,\\theta - \\frac{b}{m}\\,\\dot\\theta\n",
    "$$\n",
    "\n",
    "where $b$ is a constant of friction and $b \\ll g$.\n",
    "\n",
    "\n",
    "To use `odeint`, we rewrite the above equation as 2 first-order differential equations:\n",
    "\n",
    "\n",
    "$\n",
    "\\dot{\\theta} = \\omega\n",
    "$\n",
    "\n",
    "$\n",
    "\\dot{\\omega}= -\\frac{g}{l}\\,\\theta - \\frac{b}{m}\\,\\omega\n",
    "$\n",
    "\n",
    "</p>\n",
    "\n"
   ]
  },
  {
   "cell_type": "markdown",
   "metadata": {
    "slideshow": {
     "slide_type": "subslide"
    }
   },
   "source": [
    "<br>\n",
    "<hr style=\"border: solid 1px red; margin-bottom: 2% \">\n",
    "## Pendulum (cont.)\n",
    "<hr style=\"border: solid 1px red; margin-bottom: -1%; \">\n",
    "<br>\n",
    "\n",
    "<p style=\"font-size: 100%\"> Define the ODE as a function and set up parameters and initial values. </p>"
   ]
  },
  {
   "cell_type": "code",
   "execution_count": 8,
   "metadata": {
    "scrolled": true,
    "slideshow": {
     "slide_type": "-"
    }
   },
   "outputs": [],
   "source": [
    "# ode as a function\n",
    "\n",
    "# let y be vector  [theta, omega]\n",
    "def pendulumNumerical(y, t, b, m, g, l):\n",
    "    theta, omega = y\n",
    "    dydt = [omega, -(b/m)*omega - (g/l)*(theta)]\n",
    "    return dydt"
   ]
  },
  {
   "cell_type": "code",
   "execution_count": 9,
   "metadata": {
    "scrolled": true,
    "slideshow": {
     "slide_type": "-"
    }
   },
   "outputs": [],
   "source": [
    "# Parameters and initial values\n",
    "m = 1.0                # mass of bob\n",
    "l = 1.0                # length of pendulum\n",
    "b = 0.25               # friction constant\n",
    "g = 9.81               # gravitational constant\n",
    "theta0 = np.pi-0.01    # initial angle\n",
    "w0 = 0.0               # initial omega\n",
    "\n",
    "# create a vector with the initial angle and initial omega\n",
    "y0 = [theta0, w0]"
   ]
  },
  {
   "cell_type": "code",
   "execution_count": 10,
   "metadata": {},
   "outputs": [],
   "source": [
    "# time interval\n",
    "stoptime = 10         # total number of seconds\n",
    "numpoints = 101       # number of points interval\n",
    "\n",
    "t = np.linspace(0, stoptime, numpoints);"
   ]
  },
  {
   "cell_type": "code",
   "execution_count": 11,
   "metadata": {
    "collapsed": true
   },
   "outputs": [],
   "source": [
    "# ODE solver parameters\n",
    "abserr = 1.0e-8      # absolute error tolerance\n",
    "relerr = 1.0e-6      # relative error tolerance"
   ]
  },
  {
   "cell_type": "markdown",
   "metadata": {},
   "source": [
    "<br>\n",
    "<hr style=\"border: solid 1px red; margin-bottom: 2% \">\n",
    "## Pendulum (cont.)\n",
    "<hr style=\"border: solid 1px red; margin-bottom: -1%; \">\n",
    "<br>\n",
    "\n",
    "Use <i>odeint</i> to numerically solve the ODE with initial conditions."
   ]
  },
  {
   "cell_type": "code",
   "execution_count": 12,
   "metadata": {
    "scrolled": true,
    "slideshow": {
     "slide_type": "-"
    }
   },
   "outputs": [],
   "source": [
    "# import odeint solver\n",
    "from scipy.integrate import odeint"
   ]
  },
  {
   "cell_type": "code",
   "execution_count": 13,
   "metadata": {
    "scrolled": true,
    "slideshow": {
     "slide_type": "-"
    }
   },
   "outputs": [],
   "source": [
    "# get solution. Note args are given as a tuple\n",
    "solution = odeint(pendulumNumerical, y0, t, args=(b,m,g,l),atol=abserr, rtol=relerr)"
   ]
  },
  {
   "cell_type": "markdown",
   "metadata": {},
   "source": [
    "The ODE can be solved analytically. The exact solutions for $\\theta$ and $\\omega$ are:"
   ]
  },
  {
   "cell_type": "code",
   "execution_count": 14,
   "metadata": {},
   "outputs": [],
   "source": [
    "# Exact solution for theta\n",
    "def pendulumTheta(t, theta0, b, m, g, l):\n",
    "    root = np.sqrt( np.abs( (b*b)-4*g*m*m/l ) )\n",
    "    sol = theta0*np.exp(-b*t/2)*( np.cos( root*t/2 ) + (b/root)*np.sin( root*t/2) )\n",
    "    return sol"
   ]
  },
  {
   "cell_type": "code",
   "execution_count": 15,
   "metadata": {},
   "outputs": [],
   "source": [
    "# Exact solution for omega\n",
    "def pendulumOmega(t, theta0, b, m, g, l):\n",
    "    root = np.sqrt( np.abs( (b*b)-4*g*m*m/l ) )\n",
    "    sol = -(b/2)*theta0*np.exp(-b*t/2)*( np.cos( root*t/2 ) + (b/root)*np.sin( root*t/2) ) + (theta0/2)*np.exp(-b*t/2)*( b*np.cos( root*t/2 ) - root*np.sin( root*t/2) )\n",
    "    return sol"
   ]
  },
  {
   "cell_type": "markdown",
   "metadata": {
    "slideshow": {
     "slide_type": "subslide"
    }
   },
   "source": [
    "<br>\n",
    "<hr style=\"border: solid 1px red; margin-bottom: 2% \">\n",
    "## Exercise : Pendulum\n",
    "<hr style=\"border: solid 1px red; margin-bottom: -1%; \">\n",
    "<br>\n",
    "\n",
    "To see how good the numerical solutions for $\\theta$ and $\\omega$ are, plot the exact solutions against the\n",
    "numerical solutions for the appropriate range of $t$.\n",
    "\n",
    "You should include a legend to label the different lines/points.\n",
    "\n",
    "You should find that the numerical solution looks quite good. Can you adjust the parameters above\n",
    "(re-execute all the relevant cells) to make it worse?"
   ]
  },
  {
   "cell_type": "markdown",
   "metadata": {
    "slideshow": {
     "slide_type": "subslide"
    }
   },
   "source": [
    "<br>\n",
    "<hr style=\"border: solid 1px red; margin-bottom: 2% \">\n",
    "## Solution : Pendulum\n",
    "<hr style=\"border: solid 1px red; margin-bottom: -1%; \">\n",
    "<br>"
   ]
  },
  {
   "cell_type": "code",
   "execution_count": 17,
   "metadata": {
    "scrolled": true,
    "slideshow": {
     "slide_type": "-"
    }
   },
   "outputs": [
    {
     "data": {
      "image/png": "[encoded data removed]",
      "text/plain": [
       "<matplotlib.figure.Figure at 0x7febc00b2d30>"
      ]
     },
     "metadata": {},
     "output_type": "display_data"
    }
   ],
   "source": [
    "# %load pendulum.py\n",
    "# Plot the numerical and exact solutions for a simple pendulum\n",
    "\n",
    "# to inline plots in a notebook, uncomment line below\n",
    "%matplotlib inline\n",
    "\n",
    "import numpy as np\n",
    "\n",
    "import matplotlib.pyplot as plt\n",
    "plt.plot(t, solution[:, 0], 'b', label='theta(t)')\n",
    "plt.plot(t[0::2], pendulumTheta(t[0::2],theta0,b,m,g,l), 'ro', label='exact theta(t)')\n",
    "plt.plot(t[0::2], pendulumOmega(t[0::2],theta0,b,m,g,l), 'm*', label='exact omega(t)')\n",
    "plt.plot(t, solution[:, 1], 'g', label='omega(t)')\n",
    "plt.legend(loc='best')\n",
    "plt.xlabel('t')\n",
    "plt.grid()\n"
   ]
  },
  {
   "cell_type": "markdown",
   "metadata": {},
   "source": [
    " "
   ]
  },
  {
   "cell_type": "markdown",
   "metadata": {
    "slideshow": {
     "slide_type": "slide"
    }
   },
   "source": [
    "\n",
    "<br>\n",
    "<hr style=\"border: solid 1px red; margin-bottom: 2% \">\n",
    "## Optimisation\n",
    "<hr style=\"border: solid 1px red; margin-bottom: -1%; \">\n",
    "<br>\n",
    "\n",
    "* Several classical optimisation algorithms\n",
    "  * Least squares fitting\n",
    "  * Quasi-Newton type optimisations\n",
    "  * Simulated annealing\n",
    "  * General purpose root finding\n"
   ]
  },
  {
   "cell_type": "markdown",
   "metadata": {
    "slideshow": {
     "slide_type": "subslide"
    }
   },
   "source": [
    "<br>\n",
    "<hr style=\"border: solid 1px red; margin-bottom: 2% \">\n",
    "## Least-squares fit\n",
    "<hr style=\"border: solid 1px red; margin-bottom: -1%; \">\n",
    "<br>\n",
    "\n",
    "Use `scipy.optimize.leastsq` to fit some measured data, $\\{x_i,\\,y_i\\}$, to a function:\n",
    "\n",
    "$$\n",
    "y\\,=\\,A\\,\\sin(2\\pi k x \\,+\\, \\theta)\n",
    "$$\n",
    "\n",
    "where the parameters $A$, $k$, and $\\theta$ are unknown. The residual vector, that will be squared and summed by `leastsq` to fit the data, is:\n",
    "\n",
    "$$\n",
    "e_i\\,=\\, ∣∣ \\, y_i \\,− \\,A\\sin(2\\pi k x_i + \\theta)∣∣\n",
    "$$\n",
    "\n",
    "By defining a function to compute the residuals, $e_i$, and, selecting appropriate starting values, `leastsq` can be used to find the best-fit parameters $\\hat{A}$, $\\hat{k}$, $\\hat{\\theta}$."
   ]
  },
  {
   "cell_type": "markdown",
   "metadata": {
    "slideshow": {
     "slide_type": "subslide"
    }
   },
   "source": [
    "<br>\n",
    "<hr style=\"border: solid 1px red; margin-bottom: 2% \">\n",
    "## Least-squares fit\n",
    "<hr style=\"border: solid 1px red; margin-bottom: -1%; \">\n",
    "<br>\n",
    "\n",
    "Create a sample of true values, and the \"measured\" (noisy) data. Define the residual function and initial values.\n",
    "<br>"
   ]
  },
  {
   "cell_type": "code",
   "execution_count": 18,
   "metadata": {
    "scrolled": true,
    "slideshow": {
     "slide_type": "-"
    }
   },
   "outputs": [],
   "source": [
    "# set up true function and \"measured\" data\n",
    "x = np.arange(0, 6e-2, 6e-2 / 30)\n",
    "A, k, theta = 10, 1.0 / 3e-2, np.pi / 6\n",
    "\n",
    "y_true = A * np.sin(2.0*np.pi*k*x + theta)\n",
    "y_meas = y_true + 2.0*np.random.randn(len(x))"
   ]
  },
  {
   "cell_type": "code",
   "execution_count": 19,
   "metadata": {
    "collapsed": true,
    "scrolled": true,
    "slideshow": {
     "slide_type": "-"
    }
   },
   "outputs": [],
   "source": [
    "# Function to compute the residual\n",
    "def residuals(p, y, x):\n",
    "    A, k, theta = p\n",
    "    err = y - A * np.sin(2 * np.pi * k * x + theta)\n",
    "    return err"
   ]
  },
  {
   "cell_type": "markdown",
   "metadata": {
    "slideshow": {
     "slide_type": "subslide"
    }
   },
   "source": [
    "<br>\n",
    "<hr style=\"border: solid 1px red; margin-bottom: 2% \">\n",
    "## Least-squares fit\n",
    "<hr style=\"border: solid 1px red; margin-bottom: -1%; \">\n",
    "<br>\n",
    "\n",
    "For easy evaluation of the model function parameters [A, K, theta], we define a function."
   ]
  },
  {
   "cell_type": "code",
   "execution_count": 20,
   "metadata": {
    "scrolled": true,
    "slideshow": {
     "slide_type": "-"
    }
   },
   "outputs": [
    {
     "name": "stdout",
     "output_type": "stream",
     "text": [
      "[  8.          43.47826087   1.04719755]\n"
     ]
    }
   ],
   "source": [
    "def peval(x, p):\n",
    "    return p[0]*np.sin(2.0*np.pi*p[1]*x + p[2])\n",
    "\n",
    "# starting values of A, k and theta\n",
    "p0 = [8, 1 / 2.3e-2, np.pi / 3]\n",
    "print(np.array(p0))"
   ]
  },
  {
   "cell_type": "markdown",
   "metadata": {
    "slideshow": {
     "slide_type": "subslide"
    }
   },
   "source": [
    "<br>\n",
    "<hr style=\"border: solid 1px red; margin-bottom: 2% \">\n",
    "## Least-squares fit\n",
    "<hr style=\"border: solid 1px red; margin-bottom: -1%; \">\n",
    "<br>\n",
    "\n",
    "<p style=\"font-size: 100%\">Do least squares fitting and plot results</p>"
   ]
  },
  {
   "cell_type": "code",
   "execution_count": 21,
   "metadata": {
    "scrolled": true,
    "slideshow": {
     "slide_type": "-"
    }
   },
   "outputs": [
    {
     "name": "stdout",
     "output_type": "stream",
     "text": [
      "[  9.3624316   33.06964079   0.60016781]\n",
      "[ 10.          33.33333333   0.52359878]\n"
     ]
    }
   ],
   "source": [
    "# do least squares fitting\n",
    "from scipy.optimize import leastsq\n",
    "\n",
    "plsq = leastsq(residuals, p0, args=(y_meas, x))\n",
    "print(plsq[0])\n",
    "print(np.array([A, k, theta]))"
   ]
  },
  {
   "cell_type": "code",
   "execution_count": 22,
   "metadata": {
    "scrolled": true,
    "slideshow": {
     "slide_type": "-"
    }
   },
   "outputs": [
    {
     "data": {
      "image/png": "[encoded data removed]",
      "text/plain": [
       "<matplotlib.figure.Figure at 0x7febaf07a2e8>"
      ]
     },
     "metadata": {},
     "output_type": "display_data"
    }
   ],
   "source": [
    "# and plot the true function, measured (noisy) data \n",
    "# and the model function with fitted parameters \n",
    "plt.plot(x, peval(x, plsq[0]), x, y_meas, 'o', x, y_true)\n",
    "\n",
    "plt.title('Least-squares fit to noisy data')\n",
    "plt.legend(['Fit', 'Noisy', 'True'])\n",
    "plt.show()"
   ]
  },
  {
   "cell_type": "markdown",
   "metadata": {},
   "source": [
    " "
   ]
  },
  {
   "cell_type": "markdown",
   "metadata": {
    "slideshow": {
     "slide_type": "slide"
    }
   },
   "source": [
    "<br>\n",
    "<hr style=\"border: solid 1px red; margin-bottom: 2% \">\n",
    "## Special functions\n",
    "<hr style=\"border: solid 1px red; margin-bottom: -1%; \">\n",
    "<br>\n",
    "\n",
    "* SciPy contains huge set of special functions \n",
    "  * Bessel functions\n",
    "  * Legendre functions\n",
    "  * Gamma functions \n",
    "  * Airy functions \n",
    " \n",
    "We will see special functions used in the following sections.\n",
    "<br>\n"
   ]
  },
  {
   "cell_type": "markdown",
   "metadata": {
    "collapsed": true
   },
   "source": [
    " "
   ]
  },
  {
   "cell_type": "markdown",
   "metadata": {
    "slideshow": {
     "slide_type": "skip"
    }
   },
   "source": [
    "<br>\n",
    "<hr style=\"border: solid 1px red; margin-bottom: 2% \">\n",
    "## Example: `scipy.special`\n",
    "<hr style=\"border: solid 1px red; margin-bottom: -1%; \">\n",
    "<br>\n",
    "\n",
    "* Many problems with circular or cylindrical symmetry have solutions involving Bessel functions\n",
    "* E.g., height of a oscillating drumhead related to $J_n(x)$\n",
    "\n",
    "We will use\n",
    "\n",
    "http://docs.scipy.org/doc/scipy-0.14.0/reference/special.html\n",
    "<br>\n",
    "<br>"
   ]
  },
  {
   "cell_type": "code",
   "execution_count": 24,
   "metadata": {
    "scrolled": true,
    "slideshow": {
     "slide_type": "skip"
    }
   },
   "outputs": [],
   "source": [
    "# drumhead example\n",
    "from scipy import special\n",
    "\n",
    "def drumhead_height(n, k, distance, angle, t):\n",
    "    # kth zero is last element of returned array\n",
    "    kth_zero = special.jn_zeros(n, k)[-1]\n",
    "    return (np.cos(t) * np.cos(n*angle) * special.jn(n, distance*kth_zero))"
   ]
  },
  {
   "cell_type": "code",
   "execution_count": 25,
   "metadata": {
    "scrolled": true,
    "slideshow": {
     "slide_type": "skip"
    }
   },
   "outputs": [],
   "source": [
    "theta = np.r_[0:2*np.pi:50j]\n",
    "radius = np.r_[0:1:50j]\n",
    "\n",
    "x = np.array([r * np.cos(theta) for r in radius])\n",
    "y = np.array([r * np.sin(theta) for r in radius])\n",
    "z = np.array([drumhead_height(1, 1, r, theta, 0.5)\n",
    "              for r in radius])\n",
    "# contd..."
   ]
  },
  {
   "cell_type": "markdown",
   "metadata": {
    "slideshow": {
     "slide_type": "skip"
    }
   },
   "source": [
    "<br>\n",
    "<hr style=\"border: solid 1px red; margin-bottom: 2% \">\n",
    "## Drumhead (cont.)\n",
    "<hr style=\"border: solid 1px red; margin-bottom: -1%; \">\n",
    "<br>\n",
    "\n",
    "Plot the height of a drumhead using a 3-d axis set\n",
    " "
   ]
  },
  {
   "cell_type": "code",
   "execution_count": 26,
   "metadata": {
    "scrolled": true,
    "slideshow": {
     "slide_type": "skip"
    }
   },
   "outputs": [
    {
     "data": {
      "image/png": "[encoded data removed]",
      "text/plain": [
       "<matplotlib.figure.Figure at 0x7febb164bf28>"
      ]
     },
     "metadata": {},
     "output_type": "display_data"
    }
   ],
   "source": [
    "# ...contd\n",
    "%matplotlib inline\n",
    "import matplotlib.pyplot as plt\n",
    "from mpl_toolkits.mplot3d import Axes3D\n",
    "from matplotlib import cm\n",
    "\n",
    "fig = plt.figure(figsize=(8, 4))\n",
    "ax = Axes3D(fig)\n",
    "ax.plot_surface(x, y, z, rstride=1, cstride=1, cmap=cm.jet)\n",
    "ax.set_xlabel('X')\n",
    "ax.set_ylabel('Y')\n",
    "ax.set_zlabel('Z')\n",
    "plt.show()"
   ]
  },
  {
   "cell_type": "markdown",
   "metadata": {
    "slideshow": {
     "slide_type": "slide"
    }
   },
   "source": [
    "<br>\n",
    "<hr style=\"border: solid 1px red; margin-bottom: 2% \">\n",
    "## Summary\n",
    "<hr style=\"border: solid 1px red; margin-bottom: -1%; \">\n",
    "<br>\n",
    "\n",
    "* <p style=\"font-size: 100%\">As we have seen, SciPy has a wide range of useful functionality for scientific computing. </p>\n",
    "\n",
    "\n",
    "* <p style=\"font-size: 100%\">In case it does not have what you need, there are other packages with specialised functionality. </p>\n",
    "\n",
    "#### Other packages\n",
    "\n",
    "* <p style=\"font-size: 100%\">Pandas</p>\n",
    "\n",
    "  * <p style=\"font-size: 100%\">Offers R-like statistical analysis of numerical tables and time series</p>\n",
    "\n",
    "\n",
    "* <p style=\"font-size: 100%\">SymPy</p>\n",
    "\n",
    "  * <p style=\"font-size: 100%\">Python library for symbolic computing</p>\n",
    "\n",
    "\n",
    "* <p style=\"font-size: 100%\">scikit-image</p>\n",
    "\n",
    "  * <p style=\"font-size: 100%\">Advanced image processing</p>\n",
    "  \n",
    "  \n",
    "* <p style=\"font-size: 100%\">scikit-learn</p>\n",
    "\n",
    "  * <p style=\"font-size: 100%\">Package for machine learning</p>\n",
    "  \n",
    "  \n",
    "* <p style=\"font-size: 100%\">Sage</p>\n",
    "\n",
    "  * <p style=\"font-size: 100%\">Open source replacement for Mathematica / Maple / Matlab (built using Python)</p>\n",
    "\n",
    "<br>\n",
    "\n"
   ]
  },
  {
   "cell_type": "code",
   "execution_count": null,
   "metadata": {
    "collapsed": true
   },
   "outputs": [],
   "source": []
  }
 ],
 "metadata": {
  "celltoolbar": "Raw Cell Format",
  "kernelspec": {
   "display_name": "Python 3",
   "language": "python",
   "name": "python3"
  },
  "language_info": {
   "codemirror_mode": {
    "name": "ipython",
    "version": 3
   },
   "file_extension": ".py",
   "mimetype": "text/x-python",
   "name": "python",
   "nbconvert_exporter": "python",
   "pygments_lexer": "ipython3",
   "version": "3.5.4"
  }
 },
 "nbformat": 4,
 "nbformat_minor": 1
}
