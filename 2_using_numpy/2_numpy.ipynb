{
 "cells": [
  {
   "cell_type": "markdown",
   "metadata": {
    "slideshow": {
     "slide_type": "slide"
    }
   },
   "source": [
    "<br>\n",
    "<hr style=\"border: solid 1px red; margin-bottom: -1% \">\n",
    "# Session 2: NumPy  \n",
    "<hr style=\"border: solid 1px red; margin-top: 1.5% \">\n",
    "\n",
    "\n"
   ]
  },
  {
   "cell_type": "markdown",
   "metadata": {
    "slideshow": {
     "slide_type": "slide"
    }
   },
   "source": [
    "<br>\n",
    "<hr style=\"border: solid 1px red; margin-bottom: 2% \">\n",
    "## Introducing NumPy\n",
    "<hr style=\"border: solid 1px red; margin-bottom: -1%; \">\n",
    "\n",
    "<br>\n",
    "\n",
    "* NumPy supports:\n",
    "\n",
    "  * Multidimensional arrays (`ndarray`)\n",
    "  * Matrices and linear algebra operations\n",
    "  * Random number generation\n",
    "  * Fourier transforms\n",
    "  * Polynomials\n",
    "  \n",
    "* NumPy provides fast precompiled functions for numerical routines\n",
    "\n",
    "\n",
    "* https://www.numpy.org/\n",
    "\n",
    "<br>\n",
    "<br>"
   ]
  },
  {
   "cell_type": "markdown",
   "metadata": {
    "slideshow": {
     "slide_type": "slide"
    }
   },
   "source": [
    "<hr style=\"border: solid 1px red; margin-bottom: 2% \">\n",
    "## NumPy Arrays\n",
    "<hr style=\"border: solid 1px red; margin-bottom: -1%; \">\n",
    "\n",
    "<br>\n",
    "\n",
    "* Core (or Standard) Python Library provides lists and 1d arrays (array.array)\n",
    "\n",
    "  * Lists are general containers for objects\n",
    "  * Arrays are 1d containers for objects of the same type\n",
    "  * Limited functionality\n",
    "  * Some memory and performance overhead associated with these structures\n",
    "\n",
    "\n",
    "* NumPy provides multidimensional arrays (numpy.ndarray)\n",
    "  * Can store many elements of the same data type in multiple dimensions\n",
    "  * cf. Fortran/C/C++ arrays\n",
    "  * More functionality than Core Python e.g. many conveninent methods for array manipulation\n",
    "  * Efficient storage and execution\n",
    "\n",
    "See, e.g.,\n",
    "* https://docs.scipy.org/doc/\n",
    "<br>\n",
    "<br>"
   ]
  },
  {
   "cell_type": "markdown",
   "metadata": {
    "slideshow": {
     "slide_type": "slide"
    }
   },
   "source": [
    "<br>\n",
    "<hr style=\"border: solid 1px red; margin-bottom: 2% \">\n",
    "## Creating 1d arrays\n",
    "<hr style=\"border: solid 1px red; margin-bottom: -1%; \">\n",
    "\n",
    "<br>\n",
    "Import `numpy` as alias \"np\""
   ]
  },
  {
   "cell_type": "code",
   "execution_count": 1,
   "metadata": {
    "slideshow": {
     "slide_type": "-"
    }
   },
   "outputs": [],
   "source": [
    "import numpy as np"
   ]
  },
  {
   "cell_type": "markdown",
   "metadata": {},
   "source": [
    "Many ways to create 1d array e.g. from a list"
   ]
  },
  {
   "cell_type": "code",
   "execution_count": 3,
   "metadata": {},
   "outputs": [
    {
     "name": "stdout",
     "output_type": "stream",
     "text": [
      "[-1, 0, 1]\n",
      "[-1  0  1]\n",
      "<class 'numpy.ndarray'>\n"
     ]
    }
   ],
   "source": [
    "original = [-1, 0, 1]\n",
    "print(original)\n",
    "a = np.array(original)\n",
    "print (a)\n",
    "print (type(a))"
   ]
  },
  {
   "cell_type": "code",
   "execution_count": 8,
   "metadata": {},
   "outputs": [
    {
     "name": "stdout",
     "output_type": "stream",
     "text": [
      "[-10.  -5.   0.   5.  10.]\n",
      "<class 'numpy.ndarray'>\n"
     ]
    }
   ],
   "source": [
    "b = np.linspace(-10, 10, 5)\n",
    "print (b)\n",
    "print (type(b))"
   ]
  },
  {
   "cell_type": "markdown",
   "metadata": {},
   "source": [
    "Or from other arrays (\"copy constructor\")"
   ]
  },
  {
   "cell_type": "code",
   "execution_count": 9,
   "metadata": {},
   "outputs": [
    {
     "name": "stdout",
     "output_type": "stream",
     "text": [
      "[-10.  -5.   0.   5.  10.]\n"
     ]
    }
   ],
   "source": [
    "c = b\n",
    "print (c)\n",
    "\n",
    "#There is a distinction betwen deep copies and shallow copies of arrays"
   ]
  },
  {
   "cell_type": "markdown",
   "metadata": {},
   "source": [
    "All Numpy arrays are of type '`ndarray`'"
   ]
  },
  {
   "cell_type": "markdown",
   "metadata": {
    "slideshow": {
     "slide_type": "subslide"
    }
   },
   "source": [
    "<br>\n",
    "<hr style=\"border: solid 1px red; margin-bottom: 2% \">\n",
    "## Creating 1d arrays (cont.)\n",
    "<hr style=\"border: solid 1px red; margin-bottom: -1%; \">\n",
    "<br>\n",
    "\n",
    "Can create arrays using `numpy` functions, e.g."
   ]
  },
  {
   "cell_type": "markdown",
   "metadata": {},
   "source": [
    "Can you guess what the following functions do?"
   ]
  },
  {
   "cell_type": "code",
   "execution_count": 10,
   "metadata": {},
   "outputs": [],
   "source": [
    "a = np.linspace(-10, 10, 5)"
   ]
  },
  {
   "cell_type": "code",
   "execution_count": 12,
   "metadata": {},
   "outputs": [
    {
     "name": "stdout",
     "output_type": "stream",
     "text": [
      "[-10.  -5.   0.   5.  10.]\n",
      "Dimensions:  1\n",
      "Shape:  (5,)\n",
      "Size:  5\n",
      "Data type:  float64\n"
     ]
    }
   ],
   "source": [
    "print (a)\n",
    "print (\"Dimensions: \", a.ndim)\n",
    "print (\"Shape: \", a.shape)\n",
    "print (\"Size: \", a.size)\n",
    "print (\"Data type: \", a.dtype)"
   ]
  },
  {
   "cell_type": "code",
   "execution_count": 13,
   "metadata": {},
   "outputs": [],
   "source": [
    "#Create array and define data type\n",
    "a = np.array( [1,2,3], np.int16)"
   ]
  },
  {
   "cell_type": "markdown",
   "metadata": {
    "slideshow": {
     "slide_type": "slide"
    }
   },
   "source": [
    "<br>\n",
    "<hr style=\"border: solid 1px red; margin-bottom: 2% \">\n",
    "## Array attributes\n",
    "<hr style=\"border: solid 1px red; margin-bottom: -1%; \">\n",
    "\n",
    "<br>\n",
    "As part of the array structure, Numpy keeps track of metadata for the array as \"attributes\""
   ]
  },
  {
   "cell_type": "markdown",
   "metadata": {},
   "source": [
    "Can specify data type at creation"
   ]
  },
  {
   "cell_type": "markdown",
   "metadata": {
    "slideshow": {
     "slide_type": "slide"
    }
   },
   "source": [
    "<br>\n",
    "<hr style=\"border: solid 1px red; margin-bottom: 2% \">\n",
    "## Multi-dimensional arrays\n",
    "<hr style=\"border: solid 1px red; margin-bottom: -1%; \">\n",
    "<br>\n",
    "\n",
    "Many different ways to create N-dimensional arrays. A two-dimensional array or matrix can be created from, e.g., list of lists"
   ]
  },
  {
   "cell_type": "code",
   "execution_count": 14,
   "metadata": {},
   "outputs": [],
   "source": [
    "mat = np.array ([[1,2,3], [4,5,6]])"
   ]
  },
  {
   "cell_type": "markdown",
   "metadata": {},
   "source": [
    "Question: \n",
    "Work out the dimensions, size and shape of 'mat'"
   ]
  },
  {
   "cell_type": "code",
   "execution_count": 17,
   "metadata": {},
   "outputs": [
    {
     "name": "stdout",
     "output_type": "stream",
     "text": [
      "Dimensions:  2\n",
      "Size:  6\n",
      "Shape:  (2, 3)\n"
     ]
    }
   ],
   "source": [
    "print (\"Dimensions: \", mat.ndim)\n",
    "print (\"Size: \", mat.size)\n",
    "print (\"Shape: \", mat.shape)"
   ]
  },
  {
   "cell_type": "code",
   "execution_count": 19,
   "metadata": {
    "scrolled": true
   },
   "outputs": [
    {
     "name": "stdout",
     "output_type": "stream",
     "text": [
      "[1 2 3 0 0 4 5 6]\n",
      "(8,)\n",
      "[[1 4]\n",
      " [2 5]\n",
      " [3 6]]\n",
      "(3, 2)\n"
     ]
    }
   ],
   "source": [
    "#Concatenating arrays\n",
    "d = np.r_[np.array( [1,2,3]), 0 , 0 , [4,5,6]]\n",
    "print (d)\n",
    "print (d.shape)\n",
    "\n",
    "d = np.c_[np.array( [1,2,3]), [4,5,6] ]\n",
    "print (d)\n",
    "print (d.shape)"
   ]
  },
  {
   "cell_type": "markdown",
   "metadata": {
    "slideshow": {
     "slide_type": "slide"
    }
   },
   "source": [
    "<br>\n",
    "<hr style=\"border: solid 1px red; margin-bottom: 2% \">\n",
    "## Accessing arrays\n",
    "<hr style=\"border: solid 1px red; margin-bottom: -1%; \">\n",
    "\n",
    "<br>\n",
    "\n",
    "Basic indexing and slicing can be used to access array elements, as we know from lists"
   ]
  },
  {
   "cell_type": "code",
   "execution_count": 22,
   "metadata": {},
   "outputs": [
    {
     "name": "stdout",
     "output_type": "stream",
     "text": [
      "[0 1 2 3 4 5 6 7]\n",
      "[0 2 4 6]\n",
      "[0 2 4 6]\n"
     ]
    }
   ],
   "source": [
    "a = np.arange(8)\n",
    "print(a)\n",
    "\n",
    "print (a[0:7:2])\n",
    "print (a[0::2])"
   ]
  },
  {
   "cell_type": "markdown",
   "metadata": {},
   "source": [
    "Negative indices are valid!"
   ]
  },
  {
   "cell_type": "code",
   "execution_count": 23,
   "metadata": {},
   "outputs": [
    {
     "name": "stdout",
     "output_type": "stream",
     "text": [
      "[2 4]\n",
      "7\n"
     ]
    }
   ],
   "source": [
    "print (a[2:-3:2])\n",
    "#Last element\n",
    "print (a[-1])"
   ]
  },
  {
   "cell_type": "markdown",
   "metadata": {},
   "source": [
    "Can you guess the output of the following cell?"
   ]
  },
  {
   "cell_type": "markdown",
   "metadata": {
    "slideshow": {
     "slide_type": "subslide"
    }
   },
   "source": [
    "<br>\n",
    "<hr style=\"border: solid 1px red; margin-bottom: 2% \">\n",
    "## Accessing arrays (cont.)\n",
    "<hr style=\"border: solid 1px red margin-bottom: -1%; \">\n",
    "<br>\n",
    "For multi-dimensional arrays, can use a tuples or index notation."
   ]
  },
  {
   "cell_type": "markdown",
   "metadata": {
    "slideshow": {
     "slide_type": "subslide"
    }
   },
   "source": [
    "<br>\n",
    "<hr style=\"border: solid 1px red; margin-bottom: 2% \">\n",
    "## Array copies\n",
    "<hr style=\"border: solid 1px red; margin-bottom: -1%; \">\n",
    "\n",
    "<br>\n",
    "Simple assignment creates references or 'shallow' copies of arrays"
   ]
  },
  {
   "cell_type": "code",
   "execution_count": 24,
   "metadata": {},
   "outputs": [
    {
     "name": "stdout",
     "output_type": "stream",
     "text": [
      "[0 1 2 3 4 5 6 7]\n",
      "[0 1 2 3 4 5 6 7]\n"
     ]
    }
   ],
   "source": [
    "a = np.arange(8)\n",
    "b = a\n",
    "print (a)\n",
    "print (b)"
   ]
  },
  {
   "cell_type": "code",
   "execution_count": 25,
   "metadata": {},
   "outputs": [
    {
     "name": "stdout",
     "output_type": "stream",
     "text": [
      "[0 1 2 0 4 5 6 7]\n",
      "[0 1 2 0 4 5 6 7]\n"
     ]
    }
   ],
   "source": [
    "a[3] = 0\n",
    "print(a)\n",
    "print(b)"
   ]
  },
  {
   "cell_type": "markdown",
   "metadata": {},
   "source": [
    "Use `copy()` to create a true or 'deep' copy"
   ]
  },
  {
   "cell_type": "code",
   "execution_count": 28,
   "metadata": {},
   "outputs": [
    {
     "name": "stdout",
     "output_type": "stream",
     "text": [
      "[0 1 2 3 4 5 6 7]\n",
      "[0 1 2 3 4 5 6 7]\n",
      "[0 1 2 3 1 5 6 7]\n",
      "[0 1 2 3 4 5 6 7]\n"
     ]
    }
   ],
   "source": [
    "e = np.arange(8)\n",
    "f = np.copy(e)\n",
    "print(e)\n",
    "print (f)\n",
    "e[4]= 1\n",
    "print (e)\n",
    "print (f)"
   ]
  },
  {
   "cell_type": "markdown",
   "metadata": {
    "slideshow": {
     "slide_type": "subslide"
    }
   },
   "source": [
    "<br>\n",
    "<hr style=\"border: solid 1px red; margin-bottom: 2% \">\n",
    "## Slices and views\n",
    "<hr style=\"border: solid 1px red; margin-bottom: -1%; \">\n",
    "<br>\n",
    "A \"view\" is an array that refers to another array’s data (like references). You can create a view on an array by selecting a slice of an array. No data is copied when a view is created. "
   ]
  },
  {
   "cell_type": "markdown",
   "metadata": {},
   "source": [
    "Question: Change all the elements with values 7,8,10,11 in matrix `m` below (i.e. bottom right corner elements) to 1000 using a slice"
   ]
  },
  {
   "cell_type": "markdown",
   "metadata": {
    "slideshow": {
     "slide_type": "slide"
    }
   },
   "source": [
    "<br>\n",
    "<hr style=\"border: solid 1px red; margin-bottom: 2% \">\n",
    "## Reshaping arrays\n",
    "<hr style=\"border: solid 1px red; margin-bottom: -1%; \">\n",
    "<br>\n",
    "\n",
    "Can modify the shape of an array and/or change its size."
   ]
  },
  {
   "cell_type": "code",
   "execution_count": 29,
   "metadata": {},
   "outputs": [
    {
     "name": "stdout",
     "output_type": "stream",
     "text": [
      "[0 1 2 3 4 5]\n"
     ]
    }
   ],
   "source": [
    "g = np.arange(6)\n",
    "print (g)"
   ]
  },
  {
   "cell_type": "code",
   "execution_count": 34,
   "metadata": {},
   "outputs": [
    {
     "name": "stdout",
     "output_type": "stream",
     "text": [
      "[[0 1 2]\n",
      " [3 4 5]]\n",
      "Shape: (2, 3)\n"
     ]
    }
   ],
   "source": [
    "h = g.reshape([2,3])\n",
    "print (h)\n",
    "print (\"Shape:\", h.shape )"
   ]
  },
  {
   "cell_type": "markdown",
   "metadata": {},
   "source": [
    "Can check if arrays share the same data (i.e. not a copy) using `base`"
   ]
  },
  {
   "cell_type": "markdown",
   "metadata": {},
   "source": [
    "Question: What does the `reshape()` method do?"
   ]
  },
  {
   "cell_type": "markdown",
   "metadata": {
    "slideshow": {
     "slide_type": "subslide"
    }
   },
   "source": [
    "<br>\n",
    "<hr style=\"border: solid 1px red; margin-bottom: 2% \">\n",
    "## Manipulating arrays\n",
    "<hr style=\"border: solid 1px red; margin-bottom: -1%; \">\n",
    "<br>\n",
    "\n",
    "There are many methods for manipulating arrays (reshaping, joining, splitthing, inserting, ...). Check the documentation.\n",
    "\n",
    "E.g.,\n",
    "```python\n",
    "concatenate((a1,a2),axis=0)\n",
    "split(a, indices_or_sections, axis=0)\n",
    "flatten\n",
    "ravel(a)\n",
    "stack(arrays[, axis])\n",
    "tile(a, reps)\n",
    "repeat(a, repeats[, axis])\n",
    "unique(ar[, return_index, return_inverse, ...])\n",
    "trim_zeros(filt[, trim])\n",
    "fill(scalar)\n",
    "xv, yv = meshgrid(x,y)\n",
    "```"
   ]
  },
  {
   "cell_type": "markdown",
   "metadata": {
    "slideshow": {
     "slide_type": "-"
    }
   },
   "source": [
    "Activity: See what arrays you can create from some of the functions listed above."
   ]
  },
  {
   "cell_type": "markdown",
   "metadata": {
    "slideshow": {
     "slide_type": "subslide"
    }
   },
   "source": [
    "<br>\n",
    "<hr style=\"border: solid 1px red; margin-bottom: 2% \">\n",
    "## Fancy indexing\n",
    "<hr style=\"border: solid 1px red; margin-bottom: -1%; \">\n",
    "\n",
    "<br>\n",
    "Advanced or fancy indexing lets you do more than simple indexing.\n"
   ]
  },
  {
   "cell_type": "markdown",
   "metadata": {},
   "source": [
    "Fancy indexing returns a copy (not a view like slicing)"
   ]
  },
  {
   "cell_type": "markdown",
   "metadata": {},
   "source": [
    "Use `base` to check whether `q` is a copy. Do the same for a simple indexed slice of `p` (e.g. `p[1:2,3:4]`)"
   ]
  },
  {
   "cell_type": "markdown",
   "metadata": {},
   "source": [
    "Can use logical expressions and boolean 'masks' to find indices of elements of interest e.g."
   ]
  },
  {
   "cell_type": "markdown",
   "metadata": {},
   "source": [
    "Activity: What does the following code do?"
   ]
  },
  {
   "cell_type": "markdown",
   "metadata": {
    "slideshow": {
     "slide_type": "slide"
    }
   },
   "source": [
    "<br>\n",
    "<hr style=\"border: solid 1px red; margin-bottom: 2% \">\n",
    "## 'Vectorisation'\n",
    "<hr style=\"border: solid 1px red; margin-bottom: -1%; \">\n",
    "<br>\n",
    "\n",
    "'Vectorisation' allows element-wise operations (no loop!). What output do the following cells give?"
   ]
  },
  {
   "cell_type": "markdown",
   "metadata": {},
   "source": [
    "Careful - type of data elements matters"
   ]
  },
  {
   "cell_type": "markdown",
   "metadata": {
    "slideshow": {
     "slide_type": "subslide"
    }
   },
   "source": [
    "<br>\n",
    "<hr style=\"border: solid 1px red; margin-bottom: 2% \">\n",
    "## Random number generation\n",
    "<hr style=\"border: solid 1px red; margin-bottom: -1%; \">\n",
    "\n",
    "<br>\n",
    "Numpy provides utilities for random number generation"
   ]
  },
  {
   "cell_type": "markdown",
   "metadata": {
    "collapsed": true,
    "slideshow": {
     "slide_type": "-"
    }
   },
   "source": [
    "Activity: \n",
    "\n",
    "Explore other ways of generating random numbers. \n",
    "What other distributions can you sample? "
   ]
  },
  {
   "cell_type": "markdown",
   "metadata": {},
   "source": [
    " "
   ]
  },
  {
   "cell_type": "markdown",
   "metadata": {
    "slideshow": {
     "slide_type": "slide"
    }
   },
   "source": [
    "<br>\n",
    "<hr style=\"border: solid 1px red; margin-bottom: 2% \">\n",
    "## File operations\n",
    "<hr style=\"border: solid 1px red; margin-bottom: -1%; \">\n",
    "<br>\n",
    "Numpy provides an easy way to save data to text file"
   ]
  },
  {
   "cell_type": "markdown",
   "metadata": {},
   "source": [
    "More flexibility with `genfromtext()`  (query `?np.genfromtext`)"
   ]
  },
  {
   "cell_type": "markdown",
   "metadata": {
    "slideshow": {
     "slide_type": "-"
    }
   },
   "source": [
    "Question: What do `numpy.save()` and `numpy.load()` do ?"
   ]
  },
  {
   "cell_type": "markdown",
   "metadata": {},
   "source": [
    " "
   ]
  },
  {
   "cell_type": "markdown",
   "metadata": {
    "slideshow": {
     "slide_type": "slide"
    }
   },
   "source": [
    "<br>\n",
    "<hr style=\"border: solid 1px red; margin-bottom: 2% \">\n",
    "## Example : Polynomials\n",
    "<hr style=\"border: solid 1px red; margin-bottom: -1%; \">\n",
    "<br>\n",
    "\n",
    "Can represent polynomials with the numpy class `Polynomial` from `numpy.polynomial.Polynomial`\n",
    "\n",
    "\n",
    "* `Polynomial([a, b, c, d, e])` creates a polynomial  $p(x) = a\\,+\\,b\\,x \\,+\\,c\\,x^2\\,+\\,d\\,x^3\\,+\\,e\\,x^4$.\n",
    "\n",
    "For example:\n",
    "\n",
    "* `Polynomial([1,2,3])` creates $p(x) = 1\\,+\\,2\\,x \\,+\\,3\\,x^2$\n",
    "  \n",
    "* `Polynomial([0,1,0,2,0,3])` creates $p(x) = x \\,+\\,2\\,x^3\\,+\\,3\\,x^5 $</p>\n",
    "  \n",
    "Can carry out arithmetic operations on polynomials, as well integrate and differentiate them.\n",
    "\n",
    "Can also use the `polynomial` package to find a least-squares fit to data."
   ]
  },
  {
   "cell_type": "markdown",
   "metadata": {
    "slideshow": {
     "slide_type": "subslide"
    }
   },
   "source": [
    "<br>\n",
    "<hr style=\"border: solid 1px red; margin-bottom: 2% \">\n",
    "## Polynomials : calculating $\\pi$\n",
    "<hr style=\"border: solid 1px red; margin-bottom: -1%; \">\n",
    "<br>\n",
    "\n",
    "The Taylor series expansion for the trigonometric function $\\arctan(y)$ is :\n",
    "\n",
    "$$\\arctan ( y) \\, = \\,y - \\frac{y^3}{3} + \\frac{y^5}{5}  - \\frac{y^7}{7}  + \\dots $$\n",
    "\n",
    "Now, $\\arctan(1) = \\pi/4 $, so\n",
    "\n",
    "$$ \\pi = 4 \\, \\Big( 1- \\frac{1}{3} + \\frac{1}{5} - \\frac{1}{7} + ... \\Big) $$\n",
    "\n",
    "We can represent the series expansion using a numpy `Polynomial`, with coefficients:\n",
    "\n",
    "$$0, +1, 0, -1/3, 0, +1/5, 0, -1/7,\\ldots\\,$$ and use it to approximate $\\pi$.\n"
   ]
  },
  {
   "cell_type": "markdown",
   "metadata": {
    "slideshow": {
     "slide_type": "subslide"
    }
   },
   "source": [
    "<br>\n",
    "<hr style=\"border: solid 1px red; margin-bottom: 2% \">\n",
    "## Solution : Calculating $\\pi$\n",
    "<hr style=\"border: solid 1px red; margin-bottom: -1%; \">\n",
    "<br>"
   ]
  },
  {
   "cell_type": "markdown",
   "metadata": {
    "slideshow": {
     "slide_type": "slide"
    }
   },
   "source": [
    "<br>\n",
    "<hr style=\"border: solid 1px red; margin-bottom: 2% \">\n",
    "## Performance\n",
    "<hr style=\"border: solid 1px red; margin-bottom: -1%; \">\n",
    "<br>\n",
    "\n",
    "Python has a convenient timing function called `timeit`.\n",
    "\n",
    "Can use this to measure the execution time of small code snippets.\n",
    "\n",
    "To use the `timeit` function, either import module `timeit` and use `timeit.timeit` or use the magic command `%timeit`.\n",
    "\n",
    "By default, `timeit` loops over your code 3 times and outputs the best time. It also tells you how many iterations it ran the code per loop. \n",
    "You can specify the number of loops and the number of iterations per loop.\n",
    "```\n",
    "%timeit -n <iterations> -r <repeats>  <code_snippet>\n",
    "```\n",
    "\n",
    "See\n",
    "\n",
    "* `%timeit?` for more information\n",
    "* https://docs.python.org/3/library/timeit.html\n"
   ]
  },
  {
   "cell_type": "markdown",
   "metadata": {
    "slideshow": {
     "slide_type": "subslide"
    }
   },
   "source": [
    "<br>\n",
    "<hr style=\"border: solid 1px red; margin-bottom: 2% \">\n",
    "## Performance (cont.)\n",
    "<hr style=\"border: solid 1px red; margin-bottom: -1%; \">\n",
    "<br>\n",
    "\n",
    "Here are some `timeit` experiments for you to try. Which methods are faster?"
   ]
  },
  {
   "cell_type": "code",
   "execution_count": 58,
   "metadata": {},
   "outputs": [
    {
     "name": "stdout",
     "output_type": "stream",
     "text": [
      "The slowest run took 7.62 times longer than the fastest. This could mean that an intermediate result is being cached.\n",
      "1 loop, best of 10: 44.9 ms per loop\n"
     ]
    }
   ],
   "source": [
    "# Extra : from the linear algebra package\n",
    "%timeit -n 1 -r 10 np.dot(x,x)"
   ]
  },
  {
   "cell_type": "markdown",
   "metadata": {
    "slideshow": {
     "slide_type": "slide"
    }
   },
   "source": [
    "<br>\n",
    "<hr style=\"border: solid 1px red; margin-bottom: 2% \">\n",
    "## Exercise : Darts (calculating $\\pi$ again)\n",
    "<hr style=\"border: solid 1px red; margin-bottom: -1%; \">\n",
    "\n",
    "<br>\n",
    "\n",
    "### A Monte Carlo method (aka \"throwing darts\")\n",
    "\n",
    "Geometry gives us an expression for $\\pi$: if $N_{in}$ is the\n",
    "number of darts falling on the board, and $N_{tot}$ is the total\n",
    "number of trials\n",
    "\n",
    "$$\n",
    "\\pi \\approx 4 N_{in} / N_{tot}\n",
    "$$\n",
    "\n",
    "Try using numpy arrays to compute the following:\n",
    "1. Choose a sample size `ntot`\n",
    "2. Generate an array of random $x$ coordinates $0 \\leq x < 1$.\n",
    "3. Generate an array of random $y$ coordinates $0 \\leq y < 1$.\n",
    "4. Count the number for which $x^2 + y^2 < 1$\n",
    "5. Compute approximation to $\\pi$\n",
    "\n",
    "<br>"
   ]
  },
  {
   "cell_type": "code",
   "execution_count": 48,
   "metadata": {},
   "outputs": [
    {
     "data": {
      "text/plain": [
       "3.3333333333333335"
      ]
     },
     "execution_count": 48,
     "metadata": {},
     "output_type": "execute_result"
    }
   ],
   "source": [
    "import numpy as np\n",
    "import timeit\n",
    "\n",
    "def calc_pi(ntot):\n",
    "    #np.random.ranf(size) generates an array of random fp numbers\n",
    "    x = np.random.ranf(ntot)\n",
    "    y = np.random.ranf(ntot)\n",
    "    #print(x)\n",
    "    #print(y)\n",
    "    \n",
    "    temp = np.sqrt (x*x + y*y)\n",
    "    #print (r)\n",
    "    c = r [ r <= 1.0]\n",
    "    #print (c)\n",
    "    \n",
    "    approx_pi = 4.0 * float(c.size)/float(ntot)\n",
    "    \n",
    "    return approx_pi\n",
    "\n",
    "calc_pi(6)\n",
    "    \n",
    "    \n",
    "    \n",
    "    \n",
    "    \n"
   ]
  },
  {
   "cell_type": "markdown",
   "metadata": {},
   "source": [
    " "
   ]
  },
  {
   "cell_type": "markdown",
   "metadata": {
    "slideshow": {
     "slide_type": "slide"
    }
   },
   "source": [
    "<br>\n",
    "<hr style=\"border: solid 1px red; margin-bottom: 2% \">\n",
    "## Summary\n",
    "<hr style=\"border: solid 1px red; margin-bottom: -1%; \">\n",
    "<br>\n",
    "\n",
    "* Numpy introduces multi-dimensional arrays to Python\n",
    "\n",
    "\n",
    "* It also provides fast numerical routines convenient for scientific computation\n",
    "\n",
    "<br>\n",
    "\n",
    "* Next: Matplotlib\n",
    "\n",
    "<br>"
   ]
  },
  {
   "cell_type": "markdown",
   "metadata": {
    "slideshow": {
     "slide_type": "subslide"
    }
   },
   "source": [
    "<br>\n",
    "<hr style=\"border: solid 1px red; margin-bottom: 2% \">\n",
    "<hr style=\"border: solid 1px red; margin-bottom: -1%; \">\n",
    "<br>"
   ]
  }
 ],
 "metadata": {
  "anaconda-cloud": {},
  "celltoolbar": "Raw Cell Format",
  "kernelspec": {
   "display_name": "Python 3",
   "language": "python",
   "name": "python3"
  },
  "language_info": {
   "codemirror_mode": {
    "name": "ipython",
    "version": 3
   },
   "file_extension": ".py",
   "mimetype": "text/x-python",
   "name": "python",
   "nbconvert_exporter": "python",
   "pygments_lexer": "ipython3",
   "version": "3.5.4"
  }
 },
 "nbformat": 4,
 "nbformat_minor": 1
}
